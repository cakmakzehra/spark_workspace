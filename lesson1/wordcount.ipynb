{
 "cells": [
  {
   "cell_type": "code",
   "execution_count": 1,
   "id": "95d97e5d",
   "metadata": {},
   "outputs": [],
   "source": [
    "import findspark \n",
    "findspark.init()"
   ]
  },
  {
   "cell_type": "code",
   "execution_count": 2,
   "id": "957dfd4e",
   "metadata": {},
   "outputs": [],
   "source": [
    "from pyspark.sql import SparkSession"
   ]
  },
  {
   "cell_type": "code",
   "execution_count": 3,
   "id": "aa13cbe9",
   "metadata": {},
   "outputs": [],
   "source": [
    "from pyspark.conf import SparkConf"
   ]
  },
  {
   "cell_type": "code",
   "execution_count": 4,
   "id": "e5227bbb",
   "metadata": {},
   "outputs": [],
   "source": [
    "import re"
   ]
  },
  {
   "cell_type": "code",
   "execution_count": 5,
   "id": "a020cc24",
   "metadata": {},
   "outputs": [
    {
     "name": "stderr",
     "output_type": "stream",
     "text": [
      "21/08/22 21:54:43 WARN Utils: Your hostname, zehra-Vostro-5402 resolves to a loopback address: 127.0.1.1; using 192.168.1.105 instead (on interface wlp45s0)\n",
      "21/08/22 21:54:43 WARN Utils: Set SPARK_LOCAL_IP if you need to bind to another address\n",
      "21/08/22 21:54:44 WARN NativeCodeLoader: Unable to load native-hadoop library for your platform... using builtin-java classes where applicable\n",
      "Using Spark's default log4j profile: org/apache/spark/log4j-defaults.properties\n",
      "Setting default log level to \"WARN\".\n",
      "To adjust logging level use sc.setLogLevel(newLevel). For SparkR, use setLogLevel(newLevel).\n"
     ]
    }
   ],
   "source": [
    "spark = SparkSession.builder.master(\"local[4]\").appName(\"rdd_wordcount\").getOrCreate()"
   ]
  },
  {
   "cell_type": "code",
   "execution_count": 6,
   "id": "6a67251a",
   "metadata": {},
   "outputs": [],
   "source": [
    "sc = spark.sparkContext"
   ]
  },
  {
   "cell_type": "code",
   "execution_count": 7,
   "id": "4d703ede",
   "metadata": {},
   "outputs": [],
   "source": [
    "path = \"/home/zehra/forsa.txt\""
   ]
  },
  {
   "cell_type": "code",
   "execution_count": 8,
   "id": "b9ae25a6",
   "metadata": {},
   "outputs": [],
   "source": [
    "story_rdd = sc.textFile(path)"
   ]
  },
  {
   "cell_type": "code",
   "execution_count": 9,
   "id": "8c3f99da",
   "metadata": {},
   "outputs": [
    {
     "name": "stderr",
     "output_type": "stream",
     "text": [
      "                                                                                \r"
     ]
    },
    {
     "data": {
      "text/plain": [
       "95"
      ]
     },
     "execution_count": 9,
     "metadata": {},
     "output_type": "execute_result"
    }
   ],
   "source": [
    "story_rdd.count()"
   ]
  },
  {
   "cell_type": "code",
   "execution_count": 10,
   "id": "7f88e51e",
   "metadata": {},
   "outputs": [
    {
     "data": {
      "text/plain": [
       "['Forsa - Ömer Seyfettin',\n",
       " '',\n",
       " 'Akdeniz’in, kahramanlık yuvası sonsuz ufuklarına bakan küçük tepe, minimini bir çiçek ormanı gibiydi. İnce uzun dallı badem ağaçlarının alaca gölgeleri sahile inen keçiyoluna düşüyor, ilkbaharın tatlı rüzgârıyla sarhoş olan martılar, çılgın bağrışlarıyla havayı çınlatıyordu. Badem bahçesinin yanı geniş bir bağdı. Beyaz taşlardan yapılmış kısa bir duvarın ötesindeki harabe vadiye kadar iniyordu. Bağın ortasındaki yıkık kulübenin kapısız girişinden bir ihtiyar çıktı. Saçı sakalı bembeyazdı. Kamburunu düzeltmek istiyormuş gibi gerindi. Elleri, ayakları titriyordu. Gök kadar boş, gök kadar sakin duran denize baktı, baktı.',\n",
       " '',\n",
       " '– Hayırdır inşallah! dedi.']"
      ]
     },
     "execution_count": 10,
     "metadata": {},
     "output_type": "execute_result"
    }
   ],
   "source": [
    "story_rdd.take(5)"
   ]
  },
  {
   "cell_type": "code",
   "execution_count": 11,
   "id": "ea0e135d",
   "metadata": {},
   "outputs": [
    {
     "data": {
      "text/plain": [
       "['forsa  ömer seyfettin',\n",
       " '',\n",
       " 'akdenizin kahramanlık yuvası sonsuz ufuklarına bakan küçük tepe minimini bir çiçek ormanı gibiydi i̇nce uzun dallı badem ağaçlarının alaca gölgeleri sahile inen keçiyoluna düşüyor ilkbaharın tatlı rüzgârıyla sarhoş olan martılar çılgın bağrışlarıyla havayı çınlatıyordu badem bahçesinin yanı geniş bir bağdı beyaz taşlardan yapılmış kısa bir duvarın ötesindeki harabe vadiye kadar iniyordu bağın ortasındaki yıkık kulübenin kapısız girişinden bir ihtiyar çıktı saçı sakalı bembeyazdı kamburunu düzeltmek istiyormuş gibi gerindi elleri ayakları titriyordu gök kadar boş gök kadar sakin duran denize baktı baktı',\n",
       " '',\n",
       " ' hayırdır inşallah dedi']"
      ]
     },
     "execution_count": 11,
     "metadata": {},
     "output_type": "execute_result"
    }
   ],
   "source": [
    "clean_data = story_rdd.map(lambda row: re.sub(re.compile(r'[^\\w\\s]'),\"\",row).lower())\n",
    "clean_data.take(5)"
   ]
  },
  {
   "cell_type": "code",
   "execution_count": 12,
   "id": "aee18dda",
   "metadata": {},
   "outputs": [
    {
     "data": {
      "text/plain": [
       "['forsa', 'ömer', 'seyfettin', 'akdenizin', 'kahramanlık']"
      ]
     },
     "execution_count": 12,
     "metadata": {},
     "output_type": "execute_result"
    }
   ],
   "source": [
    "words = clean_data.flatMap(lambda row: row.split(\" \")).filter(lambda x: x != \"\")\n",
    "words.take(5)"
   ]
  },
  {
   "cell_type": "code",
   "execution_count": 13,
   "id": "636f325f",
   "metadata": {},
   "outputs": [
    {
     "data": {
      "text/plain": [
       "[('forsa', 1),\n",
       " ('ömer', 1),\n",
       " ('seyfettin', 1),\n",
       " ('akdenizin', 1),\n",
       " ('kahramanlık', 1)]"
      ]
     },
     "execution_count": 13,
     "metadata": {},
     "output_type": "execute_result"
    }
   ],
   "source": [
    "word_count = words.map(lambda word: (word, 1))\n",
    "word_count.take(5)"
   ]
  },
  {
   "cell_type": "code",
   "execution_count": 14,
   "id": "620832bd",
   "metadata": {},
   "outputs": [
    {
     "data": {
      "text/plain": [
       "[('forsa', 1),\n",
       " ('akdenizin', 1),\n",
       " ('kahramanlık', 2),\n",
       " ('sonsuz', 1),\n",
       " ('ufuklarına', 1),\n",
       " ('bakan', 1),\n",
       " ('gibiydi', 3),\n",
       " ('i̇nce', 1),\n",
       " ('uzun', 1),\n",
       " ('badem', 3),\n",
       " ('alaca', 1),\n",
       " ('inen', 1),\n",
       " ('keçiyoluna', 1),\n",
       " ('rüzgârıyla', 1),\n",
       " ('sarhoş', 1)]"
      ]
     },
     "execution_count": 14,
     "metadata": {},
     "output_type": "execute_result"
    }
   ],
   "source": [
    "rbk_wordcount = word_count.reduceByKey(lambda x,y: x+y)\n",
    "rbk_wordcount.take(15)"
   ]
  },
  {
   "cell_type": "code",
   "execution_count": 15,
   "id": "ca753673",
   "metadata": {},
   "outputs": [
    {
     "data": {
      "text/plain": [
       "[(1, 'forsa'),\n",
       " (1, 'akdenizin'),\n",
       " (2, 'kahramanlık'),\n",
       " (1, 'sonsuz'),\n",
       " (1, 'ufuklarına'),\n",
       " (1, 'bakan'),\n",
       " (3, 'gibiydi'),\n",
       " (1, 'i̇nce'),\n",
       " (1, 'uzun'),\n",
       " (3, 'badem'),\n",
       " (1, 'alaca'),\n",
       " (1, 'inen'),\n",
       " (1, 'keçiyoluna'),\n",
       " (1, 'rüzgârıyla'),\n",
       " (1, 'sarhoş')]"
      ]
     },
     "execution_count": 15,
     "metadata": {},
     "output_type": "execute_result"
    }
   ],
   "source": [
    "rbk_wordcount = rbk_wordcount.map(lambda x: (x[1], x[0]))\n",
    "rbk_wordcount.take(15)"
   ]
  },
  {
   "cell_type": "code",
   "execution_count": 16,
   "id": "5ad5e04e",
   "metadata": {},
   "outputs": [
    {
     "data": {
      "text/plain": [
       "[(36, 'bir'),\n",
       " (8, 'kırk'),\n",
       " (8, 'yıl'),\n",
       " (6, 'onu'),\n",
       " (6, 'diye'),\n",
       " (6, 'bu'),\n",
       " (6, 'doğru'),\n",
       " (5, 'baktı'),\n",
       " (5, 'tutsak'),\n",
       " (5, 'yirmi'),\n",
       " (5, 'evet'),\n",
       " (5, 'i̇htiyar'),\n",
       " (5, 'ben'),\n",
       " (5, 'dedi'),\n",
       " (5, 'türk'),\n",
       " (5, 'onun'),\n",
       " (5, 'büyük'),\n",
       " (4, 'daha'),\n",
       " (4, 'rüya'),\n",
       " (4, 'gibi')]"
      ]
     },
     "execution_count": 16,
     "metadata": {},
     "output_type": "execute_result"
    }
   ],
   "source": [
    "rbk_wordcount.sortByKey(False).take(20)"
   ]
  },
  {
   "cell_type": "code",
   "execution_count": null,
   "id": "88ca9964",
   "metadata": {},
   "outputs": [],
   "source": []
  }
 ],
 "metadata": {
  "kernelspec": {
   "display_name": "Python 3 (ipykernel)",
   "language": "python",
   "name": "python3"
  },
  "language_info": {
   "codemirror_mode": {
    "name": "ipython",
    "version": 3
   },
   "file_extension": ".py",
   "mimetype": "text/x-python",
   "name": "python",
   "nbconvert_exporter": "python",
   "pygments_lexer": "ipython3",
   "version": "3.8.10"
  }
 },
 "nbformat": 4,
 "nbformat_minor": 5
}
